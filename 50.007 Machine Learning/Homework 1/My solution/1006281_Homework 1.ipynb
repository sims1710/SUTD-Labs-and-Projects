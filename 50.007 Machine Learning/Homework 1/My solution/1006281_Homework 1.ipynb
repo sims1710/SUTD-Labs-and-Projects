{
 "cells": [
  {
   "cell_type": "markdown",
   "id": "6fcca7ab",
   "metadata": {},
   "source": [
    "# Homework 1"
   ]
  },
  {
   "cell_type": "markdown",
   "id": "625c0fde",
   "metadata": {},
   "source": [
    " - Name: Bundhoo Simriti\n",
    " - Student Id: 1006281"
   ]
  },
  {
   "cell_type": "code",
   "execution_count": 25,
   "id": "1c4ed6d3",
   "metadata": {},
   "outputs": [],
   "source": [
    "import numpy as np\n",
    "import os\n",
    "import matplotlib.pyplot as plt"
   ]
  },
  {
   "cell_type": "markdown",
   "id": "0b54ff1a",
   "metadata": {},
   "source": [
    "## Question 2"
   ]
  },
  {
   "cell_type": "code",
   "execution_count": 26,
   "id": "17f618d9",
   "metadata": {},
   "outputs": [],
   "source": [
    "# Setting OS paths\n",
    "train_path = os.path.join('HW1_data', '2', 'train_1_5.csv')\n",
    "test_path = os.path.join('HW1_data', '2', 'test_1_5.csv')\n",
    "\n",
    "# Reading data\n",
    "train_data = np.genfromtxt(train_path, delimiter=',')\n",
    "test_data = np.genfromtxt(test_path, delimiter=',')\n",
    "#print(train_data)\n",
    "#print(test_data)"
   ]
  },
  {
   "cell_type": "code",
   "execution_count": 27,
   "id": "0c32fe76",
   "metadata": {},
   "outputs": [],
   "source": [
    "# Initialising the parameters\n",
    "def initialise_parameters():\n",
    "    offset = 0\n",
    "    theta = np.array([0.0,0.0])\n",
    "    return offset, theta"
   ]
  },
  {
   "cell_type": "code",
   "execution_count": 28,
   "id": "a9d4bd48",
   "metadata": {},
   "outputs": [],
   "source": [
    "# Training the perceptron algorithm\n",
    "def train_perceptron(offset, theta, train_data, epochs):\n",
    "    training_features = train_data[:, : -1]\n",
    "    training_targets = train_data[:, -1]\n",
    "    \n",
    "    for number in range(epochs):\n",
    "        for x, y in zip(training_features, training_targets):\n",
    "            if (y * ((np.dot(theta, x)) + offset)) <= 0.0:\n",
    "                offset += y\n",
    "                theta += y*x\n",
    "                #print(\"Updated offset:\", offset,\"and Updated theta:\", theta)\n",
    "                \n",
    "    return offset, theta"
   ]
  },
  {
   "cell_type": "code",
   "execution_count": 29,
   "id": "d867b5d0",
   "metadata": {},
   "outputs": [],
   "source": [
    "# Testing the perceptron algorithm\n",
    "def test_perceptron(offset, theta, test_data):\n",
    "    test_features = test_data[:, : -1]\n",
    "    test_targets = test_data[:, -1]\n",
    "    \n",
    "    #accuracy = true positives + true_negatives / total\n",
    "    accuracy_count = 0\n",
    "    total = len(test_data)\n",
    "    \n",
    "    for x,y in zip(test_features, test_targets):\n",
    "        if (y * ((np.dot(theta, x)) + offset)) > 0.0:\n",
    "            accuracy_count += 1\n",
    "            \n",
    "    accuracy = (accuracy_count/total) * 100\n",
    "    return offset, theta, accuracy"
   ]
  },
  {
   "cell_type": "code",
   "execution_count": 30,
   "id": "b27c3e4c",
   "metadata": {},
   "outputs": [],
   "source": [
    "# Running the algorithm and displaying results\n",
    "def display_results(epoch):\n",
    "    print(\"RESULTS FOR\", epoch, \"EPOCH/S\")\n",
    "    \n",
    "    initial_offset, initial_theta = initialise_parameters()\n",
    "    offset, theta = train_perceptron(initial_offset, initial_theta, train_data, epoch)\n",
    "    #print(\"After training data:\")\n",
    "    #print(\"Offset:\", offset, \"Theta:\", theta)\n",
    "\n",
    "    offset, theta, accuracy = test_perceptron(offset, theta, test_data)\n",
    "    print(\"After testing data:\")\n",
    "    print(\"Offset:\", offset, \"Theta:\", theta, \"Accuracy:\", accuracy, \"%\")"
   ]
  },
  {
   "cell_type": "markdown",
   "id": "01e9ad55",
   "metadata": {},
   "source": [
    "### a)"
   ]
  },
  {
   "cell_type": "markdown",
   "id": "4e804ac6",
   "metadata": {},
   "source": [
    "Epoch = 1\n",
    "<br>\n",
    "Report the θ, offset and accuracy on the test set"
   ]
  },
  {
   "cell_type": "code",
   "execution_count": 31,
   "id": "616b0941",
   "metadata": {},
   "outputs": [
    {
     "name": "stdout",
     "output_type": "stream",
     "text": [
      "RESULTS FOR 1 EPOCH/S\n",
      "After testing data:\n",
      "Offset: 0.0 Theta: [-2.4483233  -5.88190688] Accuracy: 96.7065868263473 %\n"
     ]
    }
   ],
   "source": [
    "#Run the perceptron algorithm with offset on the training data for 1 epoch\n",
    "display_results(1) #epoch = 1"
   ]
  },
  {
   "cell_type": "markdown",
   "id": "f5bf4fc5",
   "metadata": {},
   "source": [
    "### b)"
   ]
  },
  {
   "cell_type": "markdown",
   "id": "c0467cdc",
   "metadata": {},
   "source": [
    "Epochs = 5\n",
    "<br>\n",
    "Report the θ, offset and accuracy on the test set"
   ]
  },
  {
   "cell_type": "code",
   "execution_count": 32,
   "id": "eb075363",
   "metadata": {},
   "outputs": [
    {
     "name": "stdout",
     "output_type": "stream",
     "text": [
      "RESULTS FOR 5 EPOCH/S\n",
      "After testing data:\n",
      "Offset: 1.0 Theta: [-2.05895878 -8.83521606] Accuracy: 96.7065868263473 %\n"
     ]
    }
   ],
   "source": [
    "#Run the perceptron algorithm with offset on the training data for 5 epochs\n",
    "display_results(5) #epoch = 5"
   ]
  },
  {
   "cell_type": "markdown",
   "id": "ed02b6b4",
   "metadata": {},
   "source": [
    "### c) Help for TA:"
   ]
  },
  {
   "cell_type": "markdown",
   "id": "c5c55438",
   "metadata": {},
   "source": [
    "1. Please ensure that the file is in the same directory as HW1 folder to enable loading of the csv files.\n",
    "<br>\n",
    "2. Run the first cells to import the extensions.\n",
    "<br>\n",
    "3. The first 5 cells under the heading 'Question 2' contains all the code for running the perceptron algorithm. Please run them sequentially (if there is no output or error, the code has run successfully).\n",
    "<br>\n",
    "4. The cell under the subheading '(a)' will display the theta, offset and accuracy after running it (provided the code above it has already ran).\n",
    "<br>\n",
    "5. Follow the same steps for the cell under subheading part '(b)'."
   ]
  },
  {
   "cell_type": "markdown",
   "id": "488b188f",
   "metadata": {},
   "source": [
    "## Question 3"
   ]
  },
  {
   "cell_type": "code",
   "execution_count": 33,
   "id": "152ae730",
   "metadata": {},
   "outputs": [],
   "source": [
    "#Setting OS paths\n",
    "train_path = os.path.join('HW1_data', '3', 'train_warfarin.csv')\n",
    "test_path = os.path.join('HW1_data', '3', 'validation_warfarin.csv')\n",
    "validate_path = os.path.join('HW1_data', '3', 'test_warfarin.csv')\n",
    "\n",
    "#Reading data\n",
    "train_data = np.genfromtxt(train_path, delimiter=',')\n",
    "test_data = np.genfromtxt(test_path, delimiter=',')\n",
    "validate_data = np.genfromtxt(validate_path, delimiter=',')\n",
    "\n",
    "#print(train_data)\n",
    "#print(test_data)\n",
    "#print(validate_data)"
   ]
  },
  {
   "cell_type": "code",
   "execution_count": 34,
   "id": "fc3cfc6d",
   "metadata": {},
   "outputs": [],
   "source": [
    "#Extracting data\n",
    "training_features = train_data[:, : -1]\n",
    "training_targets = train_data[:, -1]\n",
    "\n",
    "#print(training_features)\n",
    "#print(training_targets)\n",
    "\n",
    "validating_features = validate_data[:, : -1]\n",
    "validating_targets = validate_data[:, -1]\n",
    "\n",
    "#print(validating_features)\n",
    "#print(validating_targets)\n",
    "\n",
    "testing_features = test_data[:, : -1]\n",
    "testing_targets = test_data[:, -1]\n",
    "\n",
    "#print(testing_features)\n",
    "#print(testing_targets)"
   ]
  },
  {
   "cell_type": "code",
   "execution_count": 35,
   "id": "c64bfc52",
   "metadata": {},
   "outputs": [],
   "source": [
    "# Normalize the features\n",
    "def normalize_features(features):\n",
    "    means = np.mean(features, axis=0)\n",
    "    stds = np.std(features, axis=0)\n",
    "    normalized_features = (features - means) / stds\n",
    "    return normalized_features"
   ]
  },
  {
   "cell_type": "code",
   "execution_count": 36,
   "id": "c6f61eb4",
   "metadata": {},
   "outputs": [],
   "source": [
    "#Initialise the parameters\n",
    "def initialise_parameters():\n",
    "    learning_rate = 0.1\n",
    "    iterations = 10000\n",
    "    weights = np.zeros(training_features.shape[1]) #theta\n",
    "    bias = 0.0   \n",
    "    \n",
    "    return learning_rate, iterations, weights, bias"
   ]
  },
  {
   "cell_type": "code",
   "execution_count": 37,
   "id": "841fa130",
   "metadata": {},
   "outputs": [],
   "source": [
    "#Stochastic gradient descent\n",
    "def stochastic_gradient_descent(features, targets, learning_rate, iterations, weights, bias):\n",
    "    num_examples = features.shape[0]\n",
    "    mse_values = []\n",
    "\n",
    "    for iteration in range(iterations):\n",
    "        random_index = np.random.randint(num_examples)\n",
    "        xi = features[random_index]\n",
    "        yi = targets[random_index]\n",
    "\n",
    "        predicted = np.dot(xi, weights) + bias\n",
    "\n",
    "        error = yi - predicted\n",
    "\n",
    "        weights = weights + learning_rate * error * xi\n",
    "        bias = bias + learning_rate * error * np.ones_like(bias)\n",
    "        \n",
    "        #weight = weight + learningrate * (yi - (np.dot(xi, weights) + bias )) * xi (correct)\n",
    "        #bias = bias + learningrate * (yi - (np.dot(xi, weights) + bias )) (not too sure)\n",
    "\n",
    "        mse = np.mean(((-np.dot(features, weights) - bias + targets) ** 2))\n",
    "        mse_values.append(mse)\n",
    "\n",
    "        if iteration % 100 == 0:\n",
    "            print(f\"Iteration: {iteration}, MSE: {mse}\")\n",
    "\n",
    "    return weights, bias, mse_values"
   ]
  },
  {
   "cell_type": "code",
   "execution_count": 38,
   "id": "aac2db73",
   "metadata": {},
   "outputs": [],
   "source": [
    "#Training the linear regression model\n",
    "def train_linear_regression():\n",
    "    learning_rate, iterations, weights, bias = initialise_parameters()\n",
    "    normalized_training_features = normalize_features(training_features)\n",
    "    weights, bias, mse_values_train = stochastic_gradient_descent(normalized_training_features, training_targets,learning_rate, iterations, weights, bias)\n",
    "    return weights, bias, mse_values_train"
   ]
  },
  {
   "cell_type": "code",
   "execution_count": 39,
   "id": "7846fb3b",
   "metadata": {},
   "outputs": [],
   "source": [
    "#Validating the linear regression model\n",
    "def validate_linear_regression(weights, bias):\n",
    "    normalized_validating_features = normalize_features(validating_features)\n",
    "    mse_values = np.mean((np.dot(normalized_validating_features, weights) + bias - validating_targets) ** 2)\n",
    "    return np.full(len(mse_values_train), mse_values)"
   ]
  },
  {
   "cell_type": "code",
   "execution_count": 40,
   "id": "695680f0",
   "metadata": {},
   "outputs": [],
   "source": [
    "#Testing the linear regression model\n",
    "def test_linear_regression(weights, bias):\n",
    "    normalized_testing_features = normalize_features(testing_features)\n",
    "    mse_values = np.mean((np.dot(normalized_testing_features, weights) + bias - testing_targets) ** 2)\n",
    "    return np.full(len(mse_values_train), mse_values)"
   ]
  },
  {
   "cell_type": "code",
   "execution_count": 41,
   "id": "8c644b7f",
   "metadata": {},
   "outputs": [],
   "source": [
    "#Plotting the graphs\n",
    "def plot_graph(iterations, mse_values_train, mse_values_validation, mse_values_test):\n",
    "    plt.plot(iterations, mse_values_train, label='Training Set')\n",
    "    plt.plot(iterations, mse_values_validation, label='Validation Set')\n",
    "    plt.plot(iterations, mse_values_test, label='Test Set')\n",
    "\n",
    "    plt.xlabel('Iterations')\n",
    "    plt.ylabel('Mean Squared Error')\n",
    "    plt.title('MSE during Stochastic Gradient Descent')\n",
    "    plt.legend()\n",
    "    plt.show()"
   ]
  },
  {
   "cell_type": "code",
   "execution_count": 42,
   "id": "9371b93c",
   "metadata": {},
   "outputs": [],
   "source": [
    "#Displaying graph\n",
    "def display_graph(mse_values_train, mse_values_validation, mse_values_test):\n",
    "    iterations = range(0, len(mse_values_train) * 100, 100)\n",
    "    plot_graph(iterations, mse_values_train, mse_values_validation, mse_values_test)"
   ]
  },
  {
   "cell_type": "code",
   "execution_count": 43,
   "id": "5a70196c",
   "metadata": {},
   "outputs": [
    {
     "name": "stdout",
     "output_type": "stream",
     "text": [
      "Iteration: 0, MSE: 0.48\n",
      "Iteration: 100, MSE: 31.98968034443915\n",
      "Iteration: 200, MSE: 269.3203007548667\n",
      "Iteration: 300, MSE: 433.1789583048187\n",
      "Iteration: 400, MSE: 2887.876719266606\n",
      "Iteration: 500, MSE: 17703.924877070636\n",
      "Iteration: 600, MSE: 25686.43745928923\n",
      "Iteration: 700, MSE: 69230.91668752751\n",
      "Iteration: 800, MSE: 702585.5823920397\n",
      "Iteration: 900, MSE: 1216570.40503962\n",
      "Iteration: 1000, MSE: 3781556.814295145\n",
      "Iteration: 1100, MSE: 8627609.07886992\n",
      "Iteration: 1200, MSE: 13075101.710311906\n",
      "Iteration: 1300, MSE: 210482580.4691486\n",
      "Iteration: 1400, MSE: 2083726060.7134156\n",
      "Iteration: 1500, MSE: 11869528754.02349\n",
      "Iteration: 1600, MSE: 51390993450.79471\n",
      "Iteration: 1700, MSE: 511434086480.1557\n",
      "Iteration: 1800, MSE: 6030402308909.848\n",
      "Iteration: 1900, MSE: 203087802312661.88\n",
      "Iteration: 2000, MSE: 1507954381056208.2\n",
      "Iteration: 2100, MSE: 7702413762336133.0\n",
      "Iteration: 2200, MSE: 4.5222604621266936e+16\n",
      "Iteration: 2300, MSE: 2.938187441295418e+17\n",
      "Iteration: 2400, MSE: 5.189002288887509e+18\n",
      "Iteration: 2500, MSE: 2.561458294863363e+19\n",
      "Iteration: 2600, MSE: 9.752050906374962e+19\n",
      "Iteration: 2700, MSE: 7.208916963159241e+20\n",
      "Iteration: 2800, MSE: 8.670763761585319e+20\n",
      "Iteration: 2900, MSE: 2.689373865613019e+21\n",
      "Iteration: 3000, MSE: 5.381995244002649e+23\n",
      "Iteration: 3100, MSE: 1.7775976156927448e+24\n",
      "Iteration: 3200, MSE: 7.652755850630141e+24\n",
      "Iteration: 3300, MSE: 2.5193359729006183e+25\n",
      "Iteration: 3400, MSE: 1.233089424940236e+26\n",
      "Iteration: 3500, MSE: 7.95501275807693e+26\n",
      "Iteration: 3600, MSE: 3.8608713980538255e+27\n",
      "Iteration: 3700, MSE: 2.9752674045699046e+28\n",
      "Iteration: 3800, MSE: 2.7596525581447386e+29\n",
      "Iteration: 3900, MSE: 5.804240959577324e+29\n",
      "Iteration: 4000, MSE: 4.191936271333223e+30\n",
      "Iteration: 4100, MSE: 3.8559609893938083e+31\n",
      "Iteration: 4200, MSE: 3.0240068723949082e+32\n",
      "Iteration: 4300, MSE: 1.053407747587996e+33\n",
      "Iteration: 4400, MSE: 4.44976617184172e+34\n",
      "Iteration: 4500, MSE: 3.350525631326423e+35\n",
      "Iteration: 4600, MSE: 8.93825483099456e+35\n",
      "Iteration: 4700, MSE: 8.784514645400515e+36\n",
      "Iteration: 4800, MSE: 5.324359592860937e+37\n",
      "Iteration: 4900, MSE: 1.8540492920609003e+38\n",
      "Iteration: 5000, MSE: 4.3421034671502e+38\n",
      "Iteration: 5100, MSE: 2.1706357047723305e+39\n",
      "Iteration: 5200, MSE: 1.6550097059018352e+40\n",
      "Iteration: 5300, MSE: 1.0672218882905664e+41\n",
      "Iteration: 5400, MSE: 6.096968401848374e+41\n",
      "Iteration: 5500, MSE: 1.2648248871528648e+42\n",
      "Iteration: 5600, MSE: 1.1016431636453012e+43\n",
      "Iteration: 5700, MSE: 3.483096384255263e+43\n",
      "Iteration: 5800, MSE: 2.4925397071357017e+44\n",
      "Iteration: 5900, MSE: 4.844008548359288e+44\n",
      "Iteration: 6000, MSE: 1.9265079621758084e+45\n",
      "Iteration: 6100, MSE: 1.4839786052463708e+46\n",
      "Iteration: 6200, MSE: 8.390491949462591e+46\n",
      "Iteration: 6300, MSE: 9.074937995276817e+47\n",
      "Iteration: 6400, MSE: 6.582370419331834e+48\n",
      "Iteration: 6500, MSE: 2.8897307781160147e+49\n",
      "Iteration: 6600, MSE: 5.191386361592215e+50\n",
      "Iteration: 6700, MSE: 2.2349049772369157e+51\n",
      "Iteration: 6800, MSE: 8.432701363386599e+51\n",
      "Iteration: 6900, MSE: 1.9074464083526587e+52\n",
      "Iteration: 7000, MSE: 7.520411023205566e+52\n",
      "Iteration: 7100, MSE: 6.558119170025083e+53\n",
      "Iteration: 7200, MSE: 2.432657094789641e+54\n",
      "Iteration: 7300, MSE: 1.5109400034974062e+55\n",
      "Iteration: 7400, MSE: 2.040046616987796e+56\n",
      "Iteration: 7500, MSE: 9.420052821072081e+56\n",
      "Iteration: 7600, MSE: 2.7779634887795637e+57\n",
      "Iteration: 7700, MSE: 9.924944901579275e+57\n",
      "Iteration: 7800, MSE: 4.065801407644304e+58\n",
      "Iteration: 7900, MSE: 2.081477646791799e+59\n",
      "Iteration: 8000, MSE: 1.1948929158452004e+60\n",
      "Iteration: 8100, MSE: 3.705260488020886e+60\n",
      "Iteration: 8200, MSE: 4.5302354739074965e+61\n",
      "Iteration: 8300, MSE: 8.834889315431653e+61\n",
      "Iteration: 8400, MSE: 2.945987868500075e+62\n",
      "Iteration: 8500, MSE: 1.645335631535746e+63\n",
      "Iteration: 8600, MSE: 3.417563613939101e+63\n",
      "Iteration: 8700, MSE: 9.357389558760066e+63\n",
      "Iteration: 8800, MSE: 2.4210145481101188e+64\n",
      "Iteration: 8900, MSE: 9.869386618179089e+64\n",
      "Iteration: 9000, MSE: 4.422755523684263e+65\n",
      "Iteration: 9100, MSE: 1.743138088702971e+66\n",
      "Iteration: 9200, MSE: 4.879222928077131e+66\n",
      "Iteration: 9300, MSE: 3.359692488230042e+67\n",
      "Iteration: 9400, MSE: 9.658640714862754e+67\n",
      "Iteration: 9500, MSE: 8.569678877708605e+68\n",
      "Iteration: 9600, MSE: 3.234650756228348e+69\n",
      "Iteration: 9700, MSE: 3.0217316094492746e+70\n",
      "Iteration: 9800, MSE: 1.1008139975247725e+71\n",
      "Iteration: 9900, MSE: 4.935445091622846e+71\n"
     ]
    }
   ],
   "source": [
    "# Train the linear regression model\n",
    "weights, bias, mse_values_train = train_linear_regression()\n",
    "mse_values_validation = validate_linear_regression(weights, bias)\n",
    "mse_values_test = test_linear_regression(weights, bias)"
   ]
  },
  {
   "cell_type": "code",
   "execution_count": 44,
   "id": "c2b884ed",
   "metadata": {
    "scrolled": true
   },
   "outputs": [
    {
     "data": {
      "image/png": "[encoded data removed]",
      "text/plain": [
       "<Figure size 432x288 with 1 Axes>"
      ]
     },
     "metadata": {
      "needs_background": "light"
     },
     "output_type": "display_data"
    }
   ],
   "source": [
    "# Display the graph\n",
    "display_graph(mse_values_train, mse_values_validation, mse_values_test)"
   ]
  },
  {
   "cell_type": "markdown",
   "id": "bf758222",
   "metadata": {},
   "source": [
    "### Help for TA:"
   ]
  },
  {
   "cell_type": "markdown",
   "id": "efb1a721",
   "metadata": {},
   "source": [
    "1. Please ensure that the file is in the same directory as HW1 folder to enable loading of the csv files.\n",
    "<br>\n",
    "2. Run the first cells from Question 2 to import the extensions.\n",
    "<br>\n",
    "3. Please run them sequentially (if there is no output or error, the code has run successfully).\n",
    "<br>\n",
    "4. The cell under the comment \"Display the graph\" will display the graphs after running it (provided the code above it has already ran)."
   ]
  },
  {
   "cell_type": "markdown",
   "id": "3ba434a8",
   "metadata": {},
   "source": [
    "### b)"
   ]
  },
  {
   "cell_type": "markdown",
   "id": "f4469051",
   "metadata": {},
   "source": [
    "1. Multiple models consisting of different values of θ and θ$_0$are trained using the training set.\n",
    "<br>\n",
    "2. The performance of each model is evaluated using a metric such the ean squared error (MSE) on the validation set.\n",
    "<br>\n",
    "3. The performances of the models on the validation set are compared. \n",
    "<br>\n",
    "4. The model that achieves the lowest validation error is selected to generalise well to unseen data.\n",
    "<br>\n",
    "5. Once the best model is selected, use it with its corresponding parameters (θ, θ$_0$) to make predictions on the test set."
   ]
  },
  {
   "cell_type": "markdown",
   "id": "4287326e",
   "metadata": {},
   "source": [
    "## Question 4"
   ]
  },
  {
   "cell_type": "code",
   "execution_count": 45,
   "id": "c6df3250",
   "metadata": {},
   "outputs": [],
   "source": [
    "# Setting OS paths\n",
    "x_inputs = os.path.join('HW1_data', '4', 'hw1_ridge_x.dat')\n",
    "y_outputs = os.path.join('HW1_data', '4', 'hw1_ridge_y.dat')\n",
    "\n",
    "# Reading data\n",
    "X_input = np.genfromtxt(x_inputs, delimiter=',')\n",
    "Y_input = np.genfromtxt(y_outputs, delimiter=',')"
   ]
  },
  {
   "cell_type": "code",
   "execution_count": 46,
   "id": "f495c587",
   "metadata": {},
   "outputs": [
    {
     "name": "stdout",
     "output_type": "stream",
     "text": [
      "(10, 4)\n",
      "(40, 4)\n",
      "(10,)\n",
      "(40,)\n"
     ]
    }
   ],
   "source": [
    "# Splitting into train set and validation set \n",
    "\n",
    "# Features\n",
    "vX = X_input[40:, :]\n",
    "tX = X_input[:40,:]\n",
    "\n",
    "# Responses\n",
    "vY = Y_input[40:]\n",
    "tY = Y_input[:40]\n",
    "\n",
    "print(vX.shape)\n",
    "print(tX.shape)\n",
    "print(vY.shape)\n",
    "print(tY.shape)"
   ]
  },
  {
   "cell_type": "markdown",
   "id": "a5f5c779",
   "metadata": {},
   "source": [
    "### a)"
   ]
  },
  {
   "cell_type": "code",
   "execution_count": 47,
   "id": "96c50684",
   "metadata": {},
   "outputs": [
    {
     "name": "stdout",
     "output_type": "stream",
     "text": [
      "The resulting value of θ for λ = 0.15: [-5.55705218e-01  1.15682144e+00 -1.59042086e-03 -1.60716070e+00]\n"
     ]
    }
   ],
   "source": [
    "# Ridge Algorithm\n",
    "def ridge_regression(tX, tY, l):\n",
    "    \n",
    "    n = tX.shape[0]\n",
    "    d = tX.shape[1]\n",
    "    identity = np.identity(d)  # Identity matrix of size d\n",
    "\n",
    "    # Compute the optimal weights using the ridge regression formula\n",
    "    theta = np.linalg.inv(n * l * identity + tX.T @ tX) @ tX.T @ tY\n",
    "    return theta\n",
    "\n",
    "# Select λ = 0.15\n",
    "lambda_value = 0.15\n",
    "\n",
    "# Call the ridge_regression function\n",
    "theta = ridge_regression(tX[:40, :], tY[:40], lambda_value)\n",
    "print(\"The resulting value of θ for λ = 0.15:\", theta)"
   ]
  },
  {
   "cell_type": "markdown",
   "id": "5bc2c6d0",
   "metadata": {},
   "source": [
    "### b)"
   ]
  },
  {
   "cell_type": "markdown",
   "id": "9a41abfd",
   "metadata": {},
   "source": [
    "Use sample code provided"
   ]
  },
  {
   "cell_type": "code",
   "execution_count": 48,
   "id": "b0fd781c",
   "metadata": {},
   "outputs": [
    {
     "data": {
      "image/png": "[encoded data removed]",
      "text/plain": [
       "<Figure size 432x288 with 1 Axes>"
      ]
     },
     "metadata": {
      "needs_background": "light"
     },
     "output_type": "display_data"
    },
    {
     "name": "stdout",
     "output_type": "stream",
     "text": [
      "λ that minimises validation loss: 1e-05\n"
     ]
    }
   ],
   "source": [
    "import numpy as np\n",
    "import matplotlib.pyplot as plt\n",
    "\n",
    "tn = tX.shape[0]\n",
    "vn = vX.shape[0]\n",
    "\n",
    "tloss = []\n",
    "vloss = []\n",
    "\n",
    "# The index range to cover λ = 10^-5 to λ = 10^0\n",
    "index = np.arange(-5, 0, 0.1)  \n",
    "\n",
    "for i in index:\n",
    "    # Call the ridge_regression function with the correct name\n",
    "    w = ridge_regression(tX, tY, 10 ** i) \n",
    "    tloss.append(np.sum((np.dot(tX, w) - tY) ** 2) / tn / 2)\n",
    "    vloss.append(np.sum((np.dot(vX, w)- vY) ** 2) / vn / 2)\n",
    "\n",
    "plt.plot(index, np.log(tloss), 'r', label=\"Training loss\")\n",
    "plt.plot(index, np.log(vloss), 'b', label=\"Validation loss\")\n",
    "plt.xlabel('log(lambda)')\n",
    "plt.ylabel('log(loss)')\n",
    "plt.legend()\n",
    "plt.title('Training Loss vs Validation Loss')\n",
    "plt.show()\n",
    "\n",
    "best_logλ = index[vloss.index(min(vloss))]\n",
    "print(f'λ that minimises validation loss: {10**best_logλ}')"
   ]
  }
 ],
 "metadata": {
  "kernelspec": {
   "display_name": "Python 3",
   "language": "python",
   "name": "python3"
  },
  "language_info": {
   "codemirror_mode": {
    "name": "ipython",
    "version": 3
   },
   "file_extension": ".py",
   "mimetype": "text/x-python",
   "name": "python",
   "nbconvert_exporter": "python",
   "pygments_lexer": "ipython3",
   "version": "3.8.8"
  }
 },
 "nbformat": 4,
 "nbformat_minor": 5
}
