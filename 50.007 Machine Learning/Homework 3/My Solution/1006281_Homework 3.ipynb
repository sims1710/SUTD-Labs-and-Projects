{
 "cells": [
  {
   "cell_type": "markdown",
   "id": "161a857a",
   "metadata": {},
   "source": [
    "# Homework 3"
   ]
  },
  {
   "cell_type": "markdown",
   "id": "dea5547f",
   "metadata": {},
   "source": [
    " - Name: Bundhoo Simriti\n",
    " - Student Id: 1006281"
   ]
  },
  {
   "cell_type": "markdown",
   "id": "470279ef",
   "metadata": {},
   "source": [
    "## Question 3"
   ]
  },
  {
   "cell_type": "code",
   "execution_count": 22,
   "id": "b9e9df73",
   "metadata": {},
   "outputs": [],
   "source": [
    "import numpy as np\n",
    "import pandas as pd\n",
    "import matplotlib.pyplot as plt"
   ]
  },
  {
   "cell_type": "code",
   "execution_count": 23,
   "id": "de0721fc",
   "metadata": {},
   "outputs": [],
   "source": [
    "def load_and_prepare_data(file_path):\n",
    "    data = pd.read_csv(file_path)\n",
    "    feature_df = data[data.columns[1:]]\n",
    "    target_df = data[data.columns[0]]\n",
    "    X_train = feature_df.to_numpy()\n",
    "    y_train = target_df.to_numpy()\n",
    "    return X_train, y_train"
   ]
  },
  {
   "cell_type": "code",
   "execution_count": 24,
   "id": "c488cb43",
   "metadata": {},
   "outputs": [],
   "source": [
    "# Sigmoid function\n",
    "def sigmoid(val):\n",
    "    y = 1/(1 + np.exp(-val))\n",
    "    return y"
   ]
  },
  {
   "cell_type": "code",
   "execution_count": 25,
   "id": "7e306c21",
   "metadata": {},
   "outputs": [],
   "source": [
    "def calculate_log_likelihood(X, y, weights):\n",
    "    z = np.dot(X, weights)\n",
    "    return np.sum(y * z - np.log(1 + np.exp(z)))"
   ]
  },
  {
   "cell_type": "code",
   "execution_count": 26,
   "id": "d66c4e94",
   "metadata": {},
   "outputs": [],
   "source": [
    "#Logistic Regression\n",
    "def stochastic_gradient_descent(X, y, weights, iters, learning_rate, save_interval):\n",
    "    n_samples, n_features = X.shape\n",
    "    n_weights = weights.copy()\n",
    "    log_likelihoods = []\n",
    "\n",
    "    for i in range(iters):\n",
    "        idx = np.random.randint(n_samples)\n",
    "        x_i, y_i = X[idx], y[idx]\n",
    "\n",
    "        z = np.dot(x_i, n_weights)\n",
    "        prediction = sigmoid(z)\n",
    "        gradient = x_i * (y_i - prediction)\n",
    "\n",
    "        n_weights += learning_rate * gradient\n",
    "\n",
    "        # Calculate log-likelihood and save every 'save_interval' iterations\n",
    "        if (i + 1) % save_interval == 0:\n",
    "            log_likelihood = calculate_log_likelihood(X, y, n_weights)\n",
    "            log_likelihoods.append(log_likelihood)\n",
    "\n",
    "    return n_weights, log_likelihoods"
   ]
  },
  {
   "cell_type": "code",
   "execution_count": 27,
   "id": "befab10f",
   "metadata": {},
   "outputs": [],
   "source": [
    "def plot_log_likelihood(iterations, log_likelihoods):\n",
    "    plt.plot(iterations, log_likelihoods)\n",
    "    plt.xlabel('Iterations')\n",
    "    plt.ylabel('Log-Likelihood')\n",
    "    plt.title('Log-Likelihood vs. Iterations')\n",
    "    plt.show()"
   ]
  },
  {
   "cell_type": "code",
   "execution_count": 28,
   "id": "58b79b52",
   "metadata": {},
   "outputs": [],
   "source": [
    "def identify_top_features(weights):\n",
    "    abs_weights = np.abs(weights)\n",
    "    top_five_indices = np.argsort(abs_weights)[-5:]\n",
    "    top_five_features = [f'x{i+1}' for i in top_five_indices[::-1]]\n",
    "    return top_five_features"
   ]
  },
  {
   "cell_type": "code",
   "execution_count": 29,
   "id": "09aeea60",
   "metadata": {},
   "outputs": [],
   "source": [
    "def main():\n",
    "    # Step 1: Load the training data\n",
    "    train_file = 'train_diabetes.csv'\n",
    "    X_train, y_train = load_and_prepare_data(train_file)\n",
    "\n",
    "    # Step 2: Implement logistic regression model with SGD\n",
    "    learning_rate = 0.1\n",
    "    n_iterations = 10000\n",
    "    save_interval = 100\n",
    "\n",
    "    initial_weights = np.zeros(X_train.shape[1])\n",
    "    weights, log_likelihoods = stochastic_gradient_descent(X_train, y_train, initial_weights, n_iterations, learning_rate, save_interval)\n",
    "\n",
    "    # Step 3: Train the model with SGD\n",
    "    iterations = np.arange(save_interval, n_iterations + 1, save_interval)\n",
    "\n",
    "    # Step 4: Plot log-likelihood at every 100 iterations\n",
    "    plot_log_likelihood(iterations, log_likelihoods)\n",
    "\n",
    "    # Step 5: Identify the five features with the highest absolute weights\n",
    "    top_five_features = identify_top_features(weights)\n",
    "    print(f\"The five most important features are: {', '.join(top_five_features)}\")"
   ]
  },
  {
   "cell_type": "code",
   "execution_count": 30,
   "id": "b8e1e3ea",
   "metadata": {},
   "outputs": [
    {
     "name": "stderr",
     "output_type": "stream",
     "text": [
      "<ipython-input-24-e51a2863ee9a>:3: RuntimeWarning: overflow encountered in exp\n",
      "  y = 1/(1 + np.exp(-val))\n"
     ]
    },
    {
     "data": {
      "image/png": "[encoded data removed]",
      "text/plain": [
       "<Figure size 432x288 with 1 Axes>"
      ]
     },
     "metadata": {
      "needs_background": "light"
     },
     "output_type": "display_data"
    },
    {
     "name": "stdout",
     "output_type": "stream",
     "text": [
      "The five most important features are: x2, x19, x3, x1, x20\n"
     ]
    }
   ],
   "source": [
    "if __name__ == \"__main__\":\n",
    "    main()"
   ]
  },
  {
   "cell_type": "markdown",
   "id": "5c657c1a",
   "metadata": {},
   "source": [
    "**From the values of the weights obtained, which five features do you think are the most important? How did you choose these five features?**"
   ]
  },
  {
   "cell_type": "markdown",
   "id": "20730b10",
   "metadata": {},
   "source": [
    "(Please the algorithm to see the five features outputted.)\n",
    "<br>\n",
    "<br>\n",
    "The method identify_top_features(weights) chooses the five features according as they had the highest weights by first sorting them in descending order and then copying and outputting the first five entries. The magnitude of weights will have the greatest impact on predicting the target variable and will thus significantly contribute to the model's decision-making process."
   ]
  }
 ],
 "metadata": {
  "kernelspec": {
   "display_name": "Python 3",
   "language": "python",
   "name": "python3"
  },
  "language_info": {
   "codemirror_mode": {
    "name": "ipython",
    "version": 3
   },
   "file_extension": ".py",
   "mimetype": "text/x-python",
   "name": "python",
   "nbconvert_exporter": "python",
   "pygments_lexer": "ipython3",
   "version": "3.8.8"
  }
 },
 "nbformat": 4,
 "nbformat_minor": 5
}
