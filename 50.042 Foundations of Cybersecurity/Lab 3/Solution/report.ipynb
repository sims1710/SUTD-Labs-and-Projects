{
 "cells": [
  {
   "cell_type": "markdown",
   "id": "applicable-mozambique",
   "metadata": {},
   "source": [
    "# FCS Lab 3 - MD5, Rainbow Tables"
   ]
  },
  {
   "cell_type": "markdown",
   "id": "beneficial-constitutional",
   "metadata": {},
   "source": [
    "* Name(s): Bundhoo Simriti\n",
    "* Student ID(s): 1006281"
   ]
  },
  {
   "cell_type": "markdown",
   "id": "identified-wagon",
   "metadata": {},
   "source": [
    "## Part I: Hashing Using MD5\n",
    "\n",
    "* How does the length of the hash correspond to the input string?"
   ]
  },
  {
   "cell_type": "markdown",
   "id": "international-combining",
   "metadata": {},
   "source": [
    "The length of the output hash is always fixed (128 bits or 16 bytes). The length of the hash is independent of the length of the input string. That is, whether the input string is only a single character or a lengthy document, the output hash is always going to have a length of 128 bits."
   ]
  },
  {
   "cell_type": "markdown",
   "id": "million-aberdeen",
   "metadata": {},
   "source": [
    "* Are there any visible correlations between the hash and the input string?"
   ]
  },
  {
   "cell_type": "markdown",
   "id": "rough-boutique",
   "metadata": {},
   "source": [
    "There is no visible correlations between the hash and the input string. As the algorithm is designed to produce a seemingly random output, it is difficult to infer the input based on the output alone. Modifying a single character from the input produces a completely different hash output."
   ]
  },
  {
   "cell_type": "markdown",
   "id": "protective-twenty",
   "metadata": {},
   "source": [
    "* What are the issues related to the cryptographic weakness of MD5?"
   ]
  },
  {
   "cell_type": "markdown",
   "id": "endangered-conspiracy",
   "metadata": {},
   "source": [
    "1. Collision vulnerabilities: MD5 is vulnerable to collision attacks, where two inputs produce the same hash value.\n",
    "\n",
    "2. Preimage attacks: Given a known MD5, an attacker is able to find the exact input that produces the desired hash value.\n",
    "\n",
    "3. High-speed computation: MD5 was designed to be fast and efficient, but that property makes it vulnerable to brute-force attacks.\n",
    "\n",
    "4. Lack of salt support: MD5 does not include a built-in support for adding a salt during the hashing process. Without a salt, identical passwords will produce the same MD5 hash."
   ]
  },
  {
   "cell_type": "markdown",
   "id": "satisfied-packet",
   "metadata": {},
   "source": [
    "## Part II: Break Hashes with Brute Force\n",
    "\n",
    "* How much time did you take in total?"
   ]
  },
  {
   "cell_type": "markdown",
   "id": "acoustic-vietnam",
   "metadata": {},
   "source": [
    "It took 103.27 seconds in total."
   ]
  },
  {
   "cell_type": "markdown",
   "id": "other-worry",
   "metadata": {},
   "source": [
    "* How much time does it take to crack each string, on average?"
   ]
  },
  {
   "cell_type": "markdown",
   "id": "allied-dragon",
   "metadata": {},
   "source": [
    "It takes an average of 6.89 seconds to crack each string on average."
   ]
  },
  {
   "cell_type": "markdown",
   "id": "grave-phase",
   "metadata": {},
   "source": [
    "* Is it possible to amortize (gradually write off the initial cost of) the brute forcing attempts?"
   ]
  },
  {
   "cell_type": "markdown",
   "id": "typical-broadcasting",
   "metadata": {},
   "source": [
    "No, it is not possible to amortize or gradually write off the initial cost of brute forcing attempts. Brute forcing involves systematically trying all possible combinations until the correct password is found. As each attempt needs to be performed in real-time,the cost cannot be spread out over multiple attempts or time periods."
   ]
  },
  {
   "cell_type": "markdown",
   "id": "stunning-undergraduate",
   "metadata": {},
   "source": [
    "## Part III: Creating Rainbow Tables\n",
    "\n",
    "* Is rcrack faster/slower than your script ex2.py? By how much faster/slower is it?"
   ]
  },
  {
   "cell_type": "markdown",
   "id": "marine-hudson",
   "metadata": {},
   "source": [
    "rcrack is faster than my script ex2.py. rcrack took 5.16 seconds to crack all 15 strings while my script took 103.27 seconds. rcrack is thus **20 times faster** than my script."
   ]
  },
  {
   "cell_type": "markdown",
   "id": "international-argument",
   "metadata": {},
   "source": [
    "* Do you observe any advantages or disadvantages of using rainbowcrack?"
   ]
  },
  {
   "cell_type": "markdown",
   "id": "received-fellowship",
   "metadata": {},
   "source": [
    "**Advantages**\n",
    "\n",
    "1. Time Efficiency: It can save time and computational resources by utilizing precomputed rainbow tables.\n",
    "\n",
    "2. Versatility: Although I only used MD5 for the lab assignment, RainbowCrack also supports other hash algorithms, allowing for a wide range of password cracking possibilities in a single attempt.\n",
    "\n",
    "3. Limited Precomputation: Once the rainbow tables are generated, they can be reused for multiple cracking attempts within the same password space. \n",
    "\n",
    "**Disadvantages**\n",
    "\n",
    "1. Precomputation Overhead: The precomputation phase of RainbowCrack can still be time-consuming and resource-intensive, especially for large password spaces. Initially generating the rainbow table took quite a while.\n",
    "2. Storage Requirements: Some of the generated rainbow tables can be quite large in size depending on the parameters used. \n",
    "3. Limited Password Space Coverage: RainbowCrack's effectiveness depends on the coverage of the precomputed rainbow tables. If the target password is not present in the rainbow table, RainbowCrack cannot crack it."
   ]
  },
  {
   "cell_type": "markdown",
   "id": "pleasant-threat",
   "metadata": {},
   "source": [
    "## Part IV: Salt\n",
    "\n",
    "* What is the observed differences between your ease of cracking the salted vs the unsalted plaintexts?"
   ]
  },
  {
   "cell_type": "markdown",
   "id": "bizarre-worker",
   "metadata": {},
   "source": [
    "1. Unique Hashes for Same Passwords: Due to the random salt added to each plaintext, even if the same password is used for multiple users, the resulting hashed values will be different.\n",
    "\n",
    "2. Disruption of Precomputed Tables: Salted passwords disrupt the effectiveness of the precomputed rainbow tables. With the introduction of salt, the same plaintext will have different hash values. I had to regenerate a new rainbow table to crack the salted passwords. The parameters used are: 6 character input, chain length 7600 and chain number 30000000.\n",
    "\n",
    "3. Increased Computational Resources Required: Cracking salted passwords requires more computational resources, including time and processing power. "
   ]
  },
  {
   "cell_type": "markdown",
   "id": "novel-party",
   "metadata": {},
   "source": [
    "* Report the difference in time observed to crack."
   ]
  },
  {
   "cell_type": "markdown",
   "id": "cb1c435f",
   "metadata": {},
   "source": [
    "Cracking unsalted plaintext took a total of 5.16 seconds. Cracking salted plaintext took 10.58 s. The difference in time is **5.42 seconds** (twice as long to cracking the same password)."
   ]
  },
  {
   "cell_type": "markdown",
   "id": "practical-transportation",
   "metadata": {},
   "source": [
    "* Explain any differences between salted and non salted rcrack strategies."
   ]
  },
  {
   "cell_type": "markdown",
   "id": "excessive-pearl",
   "metadata": {},
   "source": [
    "1. Precomputation Phase: The precomputation phase for salted passwords is more complex compared to unsalted passwords. In the case of unsalted passwords, RainbowCrack can generate rainbow tables directly by hashing common plaintexts and storing the corresponding hash values. However, for salted passwords, the rainbow tables need to include all possible salt values concatenated with the plaintexts.\n",
    "\n",
    "2. Storage Requirements: Since salted passwords require additional storage for rainbow tables that include all possible salt values, the storage requirements for salted cracking strategies are typically higher compared to unsalted strategies.\n",
    "\n",
    "3. Cracking Process: The cracking process for salted passwords involves appending each possible salt value to the plaintext and then hashing it to compare against the captured salted password hash. This process is repeated for each salt value until a match is found. In contrast, for unsalted passwords, the plaintext is hashed and directly compared against the captured unsalted password hash.\n",
    "\n",
    "4. Time and Computational Resources: The inclusion of salt values increases the search space and the number of iterations required to find a matching password. This additional complexity makes cracking salted passwords more time-consuming and computationally intensive."
   ]
  },
  {
   "cell_type": "markdown",
   "id": "endangered-address",
   "metadata": {},
   "source": [
    "## Part V: Hash Breaking Competition\n",
    "\n",
    "* What is the approach you used to crack the hashes"
   ]
  },
  {
   "cell_type": "markdown",
   "id": "outside-malpractice",
   "metadata": {},
   "source": [
    "I used online resources to crack the hashes.\n",
    "\n",
    "I initially tried this website: https://crackstation.net/ but it only cracked somr of weak, moderate and strong passwords. After, I tried another wesite: https://hashes.com/en/decrypt/hash and this website managed to provide me with most of the hashes I could not find with the first one."
   ]
  },
  {
   "cell_type": "markdown",
   "id": "obvious-cassette",
   "metadata": {},
   "source": [
    "* How you decided or designed your approach"
   ]
  },
  {
   "cell_type": "markdown",
   "id": "chicken-blast",
   "metadata": {},
   "source": [
    "**How I decided my approach?**\n",
    "I initially try to do it through using RainbowCrack but it would require many combinations of the parameters for me to get all the passwords because I was not aware of their lengths in advance. Also having to constantly generate rainbowtables which barely cracked the hashes proved to be time-consuming and were occupying storage space.\n",
    "\n",
    "I therefore decided to shift to online websites where I did not need to worry generating the rainbowtables (since they are readily accessible for the websites and are automatically updated) and there was no need for me to repeated try with varying parameters; the websites required only the hashes and the hashing algorithm to decode. They were also faster as they gave the passwords only immediately when executed.\n",
    "\n",
    "**How I designed my approach?**\n",
    "I decided to try the first website I see and flag all hashes I could not crack through that website. I would then visit another website where I would try to crack the uncracked hashes and repeat the process until I could crack all of them."
   ]
  },
  {
   "cell_type": "markdown",
   "id": "simple-cookbook",
   "metadata": {},
   "source": [
    "* Main challenges and limitations of your approach"
   ]
  },
  {
   "cell_type": "markdown",
   "id": "future-tulsa",
   "metadata": {},
   "source": [
    "- The wordlist/ rainbowtable accessible by each website was different, so some of the uncracked hashes in one website (while it could be easily cracked in another website).\n",
    "- Due unfamiliarity with such websites, a lot of time was spent on trying one which would be able to perform the task better (and if the chosen website failed to meet my expectations, I should have a backup website to take over).\n",
    "- The websites only allowed up to 20 hashes every time I executed them, which means I had to run the same algorithm over and over again in batches of 20 until all the hashes were cracked."
   ]
  },
  {
   "cell_type": "markdown",
   "id": "original-halifax",
   "metadata": {},
   "source": [
    "* How many hashes did you manage to crack?"
   ]
  },
  {
   "cell_type": "markdown",
   "id": "b4053a70",
   "metadata": {},
   "source": [
    "146 hashes out of 148 hashes"
   ]
  }
 ],
 "metadata": {
  "kernelspec": {
   "display_name": "Python 3",
   "language": "python",
   "name": "python3"
  },
  "language_info": {
   "codemirror_mode": {
    "name": "ipython",
    "version": 3
   },
   "file_extension": ".py",
   "mimetype": "text/x-python",
   "name": "python",
   "nbconvert_exporter": "python",
   "pygments_lexer": "ipython3",
   "version": "3.8.8"
  }
 },
 "nbformat": 4,
 "nbformat_minor": 5
}
