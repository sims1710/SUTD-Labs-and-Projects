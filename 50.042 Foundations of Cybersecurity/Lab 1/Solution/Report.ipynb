{
 "cells": [
  {
   "cell_type": "markdown",
   "id": "55875eaf",
   "metadata": {},
   "source": [
    "# FCS: Lab 1 Submission Report"
   ]
  },
  {
   "cell_type": "markdown",
   "id": "a913eb03",
   "metadata": {},
   "source": [
    " - Name of Student: Bundhoo Simriti\n",
    " - Student ID: 1006281"
   ]
  },
  {
   "cell_type": "code",
   "execution_count": 24,
   "id": "21b24f9b",
   "metadata": {},
   "outputs": [
    {
     "name": "stdout",
     "output_type": "stream",
     "text": [
      "Execution time: 2023-05-20 03:18:56\n"
     ]
    }
   ],
   "source": [
    "import datetime\n",
    "print(\"Execution time:\", datetime.datetime.now(datetime.timezone.utc).strftime(\"%Y-%m-%d %H:%M:%S\"))"
   ]
  },
  {
   "cell_type": "markdown",
   "id": "650e24d3",
   "metadata": {},
   "source": [
    "## Part I: Shift Cipher for printable input"
   ]
  },
  {
   "cell_type": "code",
   "execution_count": 25,
   "id": "2bb69c71",
   "metadata": {},
   "outputs": [
    {
     "name": "stdout",
     "output_type": "stream",
     "text": [
      "{(hA\r\n",
      "XU(\"%S!A\\%\"#U)fA-X%A-Q)A+)+Q\"\"/A,U(/A\"Q*UAY$A*XUA#%($Y$W)fA)Q,UA+&%$A*X%)UA$%*AY$V(U'+U$*A%SSQ)Y%$)A-XU$AXUA-Q)A+&AQ\"\"A$YWX*fA-Q)A)UQ*UTAQ*A*XUAR(UQ!VQ)*A*QR\"Uh"
     ]
    }
   ],
   "source": [
    "!python3 ex1.py -i sherlock_short.txt -o sherlock_short.en -k 42 -m e\n",
    "!cat sherlock_short.en"
   ]
  },
  {
   "cell_type": "code",
   "execution_count": 26,
   "id": "f0c6b756",
   "metadata": {},
   "outputs": [
    {
     "name": "stdout",
     "output_type": "stream",
     "text": [
      "Mr. Sherlock Holmes, who was usually very late in the mornings, save upon those not infrequent occasions when he was up all night, was seated at the breakfast table."
     ]
    }
   ],
   "source": [
    "!python3 ex1.py -i sherlock_short.en -o sherlock_short.de.txt -k 42 -m d\n",
    "!cat sherlock_short.de.txt"
   ]
  },
  {
   "cell_type": "markdown",
   "id": "c1a1e3e0",
   "metadata": {},
   "source": [
    "## Part II: Shift Cipher for binary input"
   ]
  },
  {
   "cell_type": "code",
   "execution_count": 27,
   "id": "af2311f4",
   "metadata": {},
   "outputs": [
    {
     "name": "stdout",
     "output_type": "stream",
     "text": [
      "w�XJ}�������Jr�����VJ���J���J�������J����J����J��J���J��������VJ����J����J�����J���J����������J���������J����J��J���J��J���J�����VJ���J������J��J���J���������J�����X"
     ]
    }
   ],
   "source": [
    "!python3 ex2.py -i sherlock_short.txt -o sherlock_short.en.bin -k 42 -m e\n",
    "!cat sherlock_short.en.bin"
   ]
  },
  {
   "cell_type": "code",
   "execution_count": 28,
   "id": "9be21309",
   "metadata": {},
   "outputs": [
    {
     "name": "stdout",
     "output_type": "stream",
     "text": [
      "Mr. Sherlock Holmes, who was usually very late in the mornings, save upon those not infrequent occasions when he was up all night, was seated at the breakfast table."
     ]
    }
   ],
   "source": [
    "!python3 ex2.py -i sherlock_short.en.bin -o sherlock_short.de.txt -k 42 -m d\n",
    "!cat sherlock_short.de.txt"
   ]
  },
  {
   "cell_type": "markdown",
   "id": "ac80b47a",
   "metadata": {},
   "source": [
    "## Part III: Break Shift Cipher of flag"
   ]
  },
  {
   "cell_type": "code",
   "execution_count": 29,
   "id": "6678e202",
   "metadata": {},
   "outputs": [
    {
     "name": "stdout",
     "output_type": "stream",
     "text": [
      "decrypted_246.png: PNG image data, 1200 x 1200, 8-bit/color RGBA, non-interlaced\r\n"
     ]
    }
   ],
   "source": [
    "!file 'decrypted_246.png'"
   ]
  }
 ],
 "metadata": {
  "kernelspec": {
   "display_name": "Python 3",
   "language": "python",
   "name": "python3"
  },
  "language_info": {
   "codemirror_mode": {
    "name": "ipython",
    "version": 3
   },
   "file_extension": ".py",
   "mimetype": "text/x-python",
   "name": "python",
   "nbconvert_exporter": "python",
   "pygments_lexer": "ipython3",
   "version": "3.8.8"
  }
 },
 "nbformat": 4,
 "nbformat_minor": 5
}
