{
 "cells": [
  {
   "cell_type": "markdown",
   "id": "0b38b7eb",
   "metadata": {},
   "source": [
    "# FCS: Lab 2 Submission Report"
   ]
  },
  {
   "cell_type": "markdown",
   "id": "b27d072d",
   "metadata": {},
   "source": [
    " - Name of Student: Bundhoo Simriti\n",
    " - Student ID: 1006281"
   ]
  },
  {
   "cell_type": "code",
   "execution_count": 6,
   "id": "d3caf161",
   "metadata": {},
   "outputs": [
    {
     "name": "stdout",
     "output_type": "stream",
     "text": [
      "Execution time: 2023-05-26 05:42:18\n"
     ]
    }
   ],
   "source": [
    "import datetime\n",
    "print(\"Execution time:\", datetime.datetime.now(datetime.timezone.utc).strftime(\"%Y-%m-%d %H:%M:%S\"))"
   ]
  },
  {
   "cell_type": "markdown",
   "id": "bac7dca0",
   "metadata": {},
   "source": [
    "## Part I: Substitution Cipher"
   ]
  },
  {
   "cell_type": "code",
   "execution_count": 7,
   "id": "17535960",
   "metadata": {},
   "outputs": [
    {
     "name": "stdout",
     "output_type": "stream",
     "text": [
      "The letter frequency in 'story_cipher.txt' is:  {'U': 305, 'J': 263, 'Y': 229, 'Q': 213, 'E': 206, 'D': 205, 'I': 198, 'X': 160, 'H': 131, 'B': 102, 'T': 98, 'W': 71, 'C': 70, 'S': 61, 'O': 58, 'K': 51, 'M': 50, 'V': 50, 'F': 43, 'R': 35, 'L': 29, 'A': 20, 'N': 3, 'Z': 3, 'P': 1}\n",
      "WHAT IS SYMPHOGEAR. FOR A LOOOOONG, LOOONG TIME I HAVE NEVER BOTHERED ENGAGING MYSELF IN THIS FRANCHISE. I DID NOT UNDERSTAND WHAT IT IS. NOW THAT THE SHOW IS HAVING ITS LAST SEASON, I DECIDED TO FINALLY GIVE IN, GIVE SYMPHOGEAR A TRY FROM THE VERY START. I WONDERED HOW HAVE I MISSED OUT ON THE ANIME OF THE DECADE ALL THESE YEARS. I HONESTLY DID NOT KNOW WHAT TO EXPECT WATCHING THE VERY FIRST EPISODE KNOWING ABSOLUTELY NOTHING ABOUT THE FRANCHISE. THE SHOW TOYED WITH MY EMOTIONS SO MUCH IN THAT OPENING SETPIECE. IT ENDED UP BEING ONE OF THE MOST LIFE AFFIRMING SHOWS OUT THERE. A STUNNING DISPLAY OF IDIOCY AND ACTION THAT IS BOTH CHARMING AND CAPTIVATING. IT IS CONFIDENT IN ITS STRENGTHS AND PARADES ITS WEAKNESSES PROUDLY, A SHOW THAT IS BOTH ALL STYLE AND ALL SUBSTANCE. OH BUT MOST OF ALL, IT IS A TRUE ROLLER COASTER OF EMOTIONS, AND I DO NOT USE THAT TERM LIGHTLY. I LAUGHED, I CRIED, I GOT FRUSTRATED AT THE INEPTITUDE AND STUPIDITY OF BOTH THE CHARACTERS AND THE CREATORS, BUT MOST OF ALL, I LOVED. WHEN THE CURSE OF BALAL FELL IN PLACE, SONGS STILL MANAGED TO BRIDGE THAT GAP AND CONNECT US ALL TOGETHER. THE ONE EMOTION THE SHOW NEVER FAILS TO DELIVER IS HYPE. THE SURGE OF ADRENALINE AND ENDORPHINS AND ALL THE CHEMICALS IN YOUR BRAIN WHENEVER SOMETHING AWESOME IS HAPPENING ONSCREEN IS A RARE TREAT IN MOST OTHER ANIME, BUT A CONSTANT OCCURRENCE IN THIS SHOW. THE HYPE DOES OCCASIONALLY FAIL TO DELIVER, THE HIGHER EXPECTATIONS CAN SOMETIMES BE OH TOO MUCH, BUT STILL, WHEN YOU HEAR HIBIKI SCREAM, YOU KNOW SHE MEANS BUSINESS AND JOIN HER IN SONG. AND THOSE SONGS ARE PRECISELY WHAT KEEPS SYMPHOGEAR IN THE MINDS OF MANY ALL THIS WHILE. I AM NOT AN IDOL ANIME PERSON, I DESPISE MOST IDOL ANIME AND YET. AND YET. THE MOMENT I HEARD THE SONGS FOR THE FIRST TIME RIGHT THERE ON THE IDOL CONCERT, I WAS ENTHRALLED. I KNEW THAT REGARDLESS OF HOW THE SHOW TURNED OUT, IT WOULD HAVE GREAT MUSIC. COVERING MANY GENRES, THE SHOW HAS A DIVERSE PALETTE OF SONGS RANGING FROM CELTIC ROCK TO ENKA INSPIRED TRACKS, THERE IS NO SHORTAGE OF VARIETY. YES THERE ARE SONGS THAT DO NOT WORK WELL, BUT THE ONES THAT RESONATE FAR OUTWEIGH THE OCCASIONAL BAD ONES.  SYMPHOGEAR HAS TO BE TAKEN IN AS A COMPLETE PACKAGE. IT TRULY IS MORE THAN THE SUM OF ITS PARTS. LOOKING BACK, YES I CAN AGREE ON ALL THE FLAWS, SOME MAJOR, THE SHOW HAS HAD. YET IN SPITE OF IT ALL, ACROSS SEVEN YEARS AND FIVE SEASONS. IT IS WHY I ULTIMATELY DECIDED IN AWARDING IT WITH ONE OF MY RARE NINES. SOMETHING THIS SPECIAL, THIS INSPIRATIONAL, THIS LONG LASTING IS TRULY AN EXPERIENCE TO BEHOLD. FOR BETTER FOR WORSE, IT IS THE DEFINITIVE ANIME THAT REPRESENTS THE DECADE. IT MAY NOT HAVE ENDED IN THE WAY I WANTED, AND IT MAY NOT HAVE THAT ONE KISS I WAS LOOKING FOR, BUT IT FILLED THE HOLE IN MY HEART, AND WITH IT ENDING, THE GAPING WOUND IN MY SOUL MAY NEVER HEAL. MAYBE, FOR NOW, I WILL SAY THAT THE SHOW ENDED WELL. IT WAS NOT PERVERTED INTO A QOMBIE FRANCHISE LIKE OTHERS, NOR DID IT STUMBLE HARD IN ITS FINAL MOMENT AND STRUGGLE TO RECLAIM ITS PAST GLORY. IT HAD SHORTCOMINGS, BUT THINKING BACK, THE JOURNEY TO THE END HAS BEEN A SATISFYING ONE THROUGHOUT. SO WHAT IS SYMPHOGEAR. IT IS A HYBRID IDOL ANIME. IT IS AN ANIME ABOUT FISTING. IT IS FIVE SEASONS AND SEVEN YEARS LONG AND HAS CAPTIVATED THE HEARTS OF MANY. BUT MOST IMPORTANTLY, IT IS BELIEVING IN THE SONG OF YOUR HEART."
     ]
    }
   ],
   "source": [
    "!python3 ex1.py \n",
    "!cat solution.txt"
   ]
  },
  {
   "cell_type": "markdown",
   "id": "1ddb307d",
   "metadata": {},
   "source": [
    "## Part II: Shift Cipher for binary input"
   ]
  },
  {
   "cell_type": "code",
   "execution_count": 8,
   "id": "734e8ecd",
   "metadata": {},
   "outputs": [
    {
     "name": "stdout",
     "output_type": "stream",
     "text": [
      "b'Student ID 1000000 gets 0 points\\n'\r\n",
      "b'Student ID 1006281 gets 4 points\\n'\r\n"
     ]
    }
   ],
   "source": [
    "!python3 ex2.py "
   ]
  }
 ],
 "metadata": {
  "kernelspec": {
   "display_name": "Python 3",
   "language": "python",
   "name": "python3"
  },
  "language_info": {
   "codemirror_mode": {
    "name": "ipython",
    "version": 3
   },
   "file_extension": ".py",
   "mimetype": "text/x-python",
   "name": "python",
   "nbconvert_exporter": "python",
   "pygments_lexer": "ipython3",
   "version": "3.8.8"
  }
 },
 "nbformat": 4,
 "nbformat_minor": 5
}
